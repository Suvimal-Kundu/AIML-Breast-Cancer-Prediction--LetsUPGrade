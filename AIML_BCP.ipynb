{
  "nbformat": 4,
  "nbformat_minor": 0,
  "metadata": {
    "colab": {
      "name": "AIML-BCP.ipynb",
      "provenance": []
    },
    "kernelspec": {
      "name": "python3",
      "display_name": "Python 3"
    }
  },
  "cells": [
    {
      "cell_type": "code",
      "metadata": {
        "id": "OtuNpZKgEb8w"
      },
      "source": [
        "#Classification of cancer dignosis\r\n",
        "#importing the libraries\r\n",
        "import numpy as np\r\n",
        "import matplotlib.pyplot as plt\r\n",
        "import pandas as pd"
      ],
      "execution_count": null,
      "outputs": []
    },
    {
      "cell_type": "code",
      "metadata": {
        "id": "Q0oirtvkEzDS"
      },
      "source": [
        "#importing the dataset \r\n",
        "dataset = pd.read_csv(\"https://raw.githubusercontent.com/ingledarshan/AIML-B2/main/data.csv\")\r\n",
        "X = dataset.iloc[:, 1:31].values\r\n",
        "Y = dataset.iloc[:, 31].values"
      ],
      "execution_count": null,
      "outputs": []
    },
    {
      "cell_type": "code",
      "metadata": {
        "id": "oNXiBa_lFRjL"
      },
      "source": [
        "dataset.head()\r\n",
        "\r\n",
        "print(\"Cancer data set dimensions : {}\".format(dataset.shape))\r\n",
        "\r\n",
        "dataset.groupby('diagnosis').size()"
      ],
      "execution_count": null,
      "outputs": []
    },
    {
      "cell_type": "code",
      "metadata": {
        "id": "EZRjXjqjFXMS"
      },
      "source": [
        "#Visualization of data\r\n",
        "dataset.groupby('diagnosis').hist(figsize=(12, 12))\r\n",
        "\r\n",
        "dataset.isnull().sum()\r\n",
        "dataset.isna().sum()\r\n",
        "\r\n",
        "dataframe = pd.DataFrame(Y)"
      ],
      "execution_count": null,
      "outputs": []
    },
    {
      "cell_type": "code",
      "metadata": {
        "id": "gEWI1BxRFele"
      },
      "source": [
        "#Encoding categorical data values \r\n",
        "from sklearn.preprocessing import LabelEncoder\r\n",
        "labelencoder_Y = LabelEncoder()\r\n",
        "Y = labelencoder_Y.fit_transform(Y)"
      ],
      "execution_count": null,
      "outputs": []
    },
    {
      "cell_type": "code",
      "metadata": {
        "id": "dOMWdgnnFlo6"
      },
      "source": [
        "# Splitting the dataset into the Training set and Test set\r\n",
        "from sklearn.model_selection import train_test_split\r\n",
        "X_train, X_test, Y_train, Y_test = train_test_split(X, Y, test_size = 0.25, random_state = 0)\r\n"
      ],
      "execution_count": null,
      "outputs": []
    },
    {
      "cell_type": "code",
      "metadata": {
        "id": "7d1cWOlUFuXP"
      },
      "source": [
        "#Feature Scaling\r\n",
        "from sklearn.preprocessing import StandardScaler\r\n",
        "sc = StandardScaler()\r\n",
        "X_train = sc.fit_transform(X_train)\r\n",
        "X_test = sc.transform(X_test)\r\n"
      ],
      "execution_count": null,
      "outputs": []
    },
    {
      "cell_type": "code",
      "metadata": {
        "id": "mvL60OR5FwDg"
      },
      "source": [
        "#Fitting the Logistic Regression Algorithm to the Training Set\r\n",
        "from sklearn.linear_model import LogisticRegression\r\n",
        "classifier = LogisticRegression(random_state = 0)\r\n",
        "classifier.fit(X_train, Y_train)\r\n",
        "#95.8 Acuracy"
      ],
      "execution_count": null,
      "outputs": []
    },
    {
      "cell_type": "code",
      "metadata": {
        "id": "ozm6iFQxFyyY"
      },
      "source": [
        "#Fitting K-NN Algorithm\r\n",
        "from sklearn.neighbors import KNeighborsClassifier\r\n",
        "classifier = KNeighborsClassifier(n_neighbors = 5, metric = 'minkowski', p = 2)\r\n",
        "classifier.fit(X_train, Y_train)\r\n",
        "#95.1 Acuracy"
      ],
      "execution_count": null,
      "outputs": []
    },
    {
      "cell_type": "code",
      "metadata": {
        "id": "9laWGksNF2fM"
      },
      "source": [
        "#Fitting SVM\r\n",
        "from sklearn.svm import SVC\r\n",
        "classifier = SVC(kernel = 'linear', random_state = 0)\r\n",
        "classifier.fit(X_train, Y_train) \r\n",
        "#97.2 Acuracy"
      ],
      "execution_count": null,
      "outputs": []
    },
    {
      "cell_type": "code",
      "metadata": {
        "id": "dov6tz2GF5hJ"
      },
      "source": [
        "#Fitting K-SVM\r\n",
        "from sklearn.svm import SVC\r\n",
        "classifier = SVC(kernel = 'rbf', random_state = 0)\r\n",
        "classifier.fit(X_train, Y_train)\r\n",
        "#96.5 Acuracy"
      ],
      "execution_count": null,
      "outputs": []
    },
    {
      "cell_type": "code",
      "metadata": {
        "id": "AjjltvgxF8UR"
      },
      "source": [
        "#Fitting Naive_Bayes\r\n",
        "from sklearn.naive_bayes import GaussianNB\r\n",
        "classifier = GaussianNB()\r\n",
        "classifier.fit(X_train, Y_train)\r\n",
        "#91.6 Acuracy"
      ],
      "execution_count": null,
      "outputs": []
    },
    {
      "cell_type": "code",
      "metadata": {
        "id": "lBVpVo6bF9a5"
      },
      "source": [
        "#Fitting Decision Tree Algorithm\r\n",
        "from sklearn.tree import DecisionTreeClassifier\r\n",
        "classifier = DecisionTreeClassifier(criterion = 'entropy', random_state = 0)\r\n",
        "classifier.fit(X_train, Y_train)\r\n",
        "#95.8 Acuracy"
      ],
      "execution_count": null,
      "outputs": []
    },
    {
      "cell_type": "code",
      "metadata": {
        "id": "HJdbHnouGBiI"
      },
      "source": [
        "#Fitting Random Forest Classification Algorithm\r\n",
        "from sklearn.ensemble import RandomForestClassifier\r\n",
        "classifier = RandomForestClassifier(n_estimators = 10, criterion = 'entropy', random_state = 0)\r\n",
        "classifier.fit(X_train, Y_train)\r\n",
        "#98.6 Acuracy"
      ],
      "execution_count": null,
      "outputs": []
    },
    {
      "cell_type": "code",
      "metadata": {
        "id": "SFE1O48MGD0g"
      },
      "source": [
        "#predicting the Test set results\r\n",
        "Y_pred = classifier.predict(X_test)\r\n"
      ],
      "execution_count": null,
      "outputs": []
    },
    {
      "cell_type": "code",
      "metadata": {
        "id": "nbvWIMgYGEvk"
      },
      "source": [
        "#Creating the confusion Matrix\r\n",
        "from sklearn.metrics import confusion_matrix\r\n",
        "cm = confusion_matrix(Y_test, Y_pred)\r\n",
        "c = print(cm[0, 0] + cm[1, 1])"
      ],
      "execution_count": null,
      "outputs": []
    }
  ]
}